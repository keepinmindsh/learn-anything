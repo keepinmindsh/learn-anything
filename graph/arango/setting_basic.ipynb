{
 "cells": [
  {
   "cell_type": "markdown",
   "id": "24963c78",
   "metadata": {},
   "source": [
    "# Agrango DB"
   ]
  },
  {
   "cell_type": "markdown",
   "id": "6d95b4e0",
   "metadata": {},
   "source": [
    "```aql\n",
    "CREATE COLLECTION users\n",
    "```\n",
    "\n",
    "```aql\n",
    "INSERT { name: \"Alice\", age: 30, email: \"alice@example.com\" } INTO users\n",
    "INSERT { name: \"Bob\", age: 25, email: \"bob@example.com\" } INTO users\n",
    "INSERT { name: \"Charlie\", age: 28, email: \"charlie@example.com\" } INTO users\n",
    "```\n",
    "\n",
    "```aql\n",
    "FOR u IN users RETURN u\n",
    "```"
   ]
  },
  {
   "cell_type": "code",
   "execution_count": 1,
   "id": "29ad5510",
   "metadata": {},
   "outputs": [],
   "source": [
    "%%capture\n",
    "\n",
    "!pip install python-arango"
   ]
  },
  {
   "cell_type": "markdown",
   "id": "1b31ccdd",
   "metadata": {},
   "source": [
    "### 기본 실행"
   ]
  },
  {
   "cell_type": "code",
   "execution_count": 2,
   "id": "a6fcf387",
   "metadata": {},
   "outputs": [
    {
     "name": "stdout",
     "output_type": "stream",
     "text": [
      "{'_key': 'alice', '_id': 'users/alice', '_rev': '_k_KOyJ----', 'name': 'Alice', 'age': 30}\n",
      "{'_key': 'bob', '_id': 'users/bob', '_rev': '_k_KOyJG---', 'name': 'Bob', 'age': 25}\n"
     ]
    }
   ],
   "source": [
    "from arango import ArangoClient\n",
    "\n",
    "# 1. ArangoDB 연결\n",
    "client = ArangoClient()\n",
    "db = client.db(\n",
    "    name=\"_system\",                 # 기본 DB\n",
    "    username=\"root\",               # ArangoDB 사용자명\n",
    "    password=\"openSesame\"  # 비밀번호 (본인의 설정에 맞게 입력)\n",
    ")\n",
    "\n",
    "# 2. 새 컬렉션 생성 (이미 존재하면 생략)\n",
    "if not db.has_collection(\"users\"):\n",
    "    users = db.create_collection(\"users\")\n",
    "else:\n",
    "    users = db.collection(\"users\")\n",
    "\n",
    "# 3. 예제 문서 삽입\n",
    "users.insert({\"_key\": \"alice\", \"name\": \"Alice\", \"age\": 30})\n",
    "users.insert({\"_key\": \"bob\", \"name\": \"Bob\", \"age\": 25})\n",
    "\n",
    "# 4. 문서 전체 조회\n",
    "for doc in users.all():\n",
    "    print(doc)"
   ]
  },
  {
   "cell_type": "code",
   "execution_count": 3,
   "id": "1c1c11fb",
   "metadata": {},
   "outputs": [
    {
     "data": {
      "text/plain": [
       "{'_id': 'friends/909', '_key': '909', '_rev': '_k_KPXxa---'}"
      ]
     },
     "execution_count": 3,
     "metadata": {},
     "output_type": "execute_result"
    }
   ],
   "source": [
    "# 1. 엣지 컬렉션 생성\n",
    "if not db.has_collection(\"friends\"):\n",
    "    friends = db.create_collection(\"friends\", edge=True)\n",
    "else:\n",
    "    friends = db.collection(\"friends\")\n",
    "\n",
    "# 2. 엣지 문서 삽입\n",
    "friends.insert({\n",
    "    \"_from\": \"users/alice\",\n",
    "    \"_to\": \"users/bob\"\n",
    "})"
   ]
  },
  {
   "cell_type": "code",
   "execution_count": 4,
   "id": "ec8a2eaf",
   "metadata": {},
   "outputs": [
    {
     "data": {
      "text/plain": [
       "{'_id': 'knows/1057', '_key': '1057', '_rev': '_k_KRfIG---'}"
      ]
     },
     "execution_count": 4,
     "metadata": {},
     "output_type": "execute_result"
    }
   ],
   "source": [
    "from arango import ArangoClient\n",
    "\n",
    "# 1. ArangoDB 연결\n",
    "client = ArangoClient()\n",
    "db = client.db(\"_system\", username=\"root\", password=\"openSesame\")\n",
    "\n",
    "# 2. Vertex 컬렉션 생성 (people)\n",
    "if not db.has_collection(\"people\"):\n",
    "    db.create_collection(\"people\")\n",
    "\n",
    "# 3. Edge 컬렉션 생성 (knows)\n",
    "if not db.has_collection(\"knows\"):\n",
    "    db.create_collection(\"knows\", edge=True)\n",
    "\n",
    "# 4. Named Graph가 이미 있는지 확인하고 없으면 생성\n",
    "if not db.has_graph(\"social_graph\"):\n",
    "    graph = db.create_graph(\"social_graph\")\n",
    "\n",
    "    # 엣지 정의: knows 컬렉션이 people → people 관계를 가짐\n",
    "    graph.create_edge_definition(\n",
    "        edge_collection=\"knows\",\n",
    "        from_vertex_collections=[\"people\"],\n",
    "        to_vertex_collections=[\"people\"]\n",
    "    )\n",
    "else:\n",
    "    graph = db.graph(\"social_graph\")\n",
    "\n",
    "# 5. 정점 추가\n",
    "people = db.collection(\"people\")\n",
    "people.insert({\"_key\": \"alice\", \"name\": \"Alice\"})\n",
    "people.insert({\"_key\": \"bob\", \"name\": \"Bob\"})\n",
    "people.insert({\"_key\": \"charlie\", \"name\": \"Charlie\"})\n",
    "\n",
    "# 6. 엣지 추가\n",
    "knows = db.collection(\"knows\")\n",
    "knows.insert({\"_from\": \"people/alice\", \"_to\": \"people/bob\"})\n",
    "knows.insert({\"_from\": \"people/bob\", \"_to\": \"people/charlie\"})\n"
   ]
  },
  {
   "cell_type": "markdown",
   "id": "f2499eb4",
   "metadata": {},
   "source": [
    "### AQL로 그래프 탐색 \n",
    "\n",
    "| 항목          | 설명                 |\n",
    "| ----------- | ------------------ |\n",
    "| Vertex 컬렉션  | `people`           |\n",
    "| Edge 컬렉션    | `knows`            |\n",
    "| Named Graph | `social_graph`     |\n",
    "| 탐색 방향       | `OUTBOUND` (방향 있음) |\n",
    "| 탐색 범위       | `1..1` (1단계만)      |\n"
   ]
  },
  {
   "cell_type": "code",
   "execution_count": 5,
   "id": "249374d8",
   "metadata": {},
   "outputs": [
    {
     "name": "stdout",
     "output_type": "stream",
     "text": [
      "{'_key': 'bob', '_id': 'people/bob', '_rev': '_k_KRfHq---', 'name': 'Bob'}\n"
     ]
    }
   ],
   "source": [
    "query = \"\"\"\n",
    "FOR v, e IN 1..1 OUTBOUND 'people/alice' GRAPH 'social_graph'\n",
    "RETURN v\n",
    "\"\"\"\n",
    "cursor = db.aql.execute(query)\n",
    "for doc in cursor:\n",
    "    print(doc)"
   ]
  }
 ],
 "metadata": {
  "kernelspec": {
   "display_name": ".venv",
   "language": "python",
   "name": "python3"
  },
  "language_info": {
   "codemirror_mode": {
    "name": "ipython",
    "version": 3
   },
   "file_extension": ".py",
   "mimetype": "text/x-python",
   "name": "python",
   "nbconvert_exporter": "python",
   "pygments_lexer": "ipython3",
   "version": "3.12.11"
  }
 },
 "nbformat": 4,
 "nbformat_minor": 5
}
