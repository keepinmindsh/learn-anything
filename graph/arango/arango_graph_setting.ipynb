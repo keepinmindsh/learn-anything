{
 "cells": [
  {
   "cell_type": "markdown",
   "id": "9b85da9f",
   "metadata": {},
   "source": [
    "# ArangoDB 적용"
   ]
  },
  {
   "cell_type": "code",
   "execution_count": 1,
   "id": "d93b6bad",
   "metadata": {},
   "outputs": [],
   "source": [
    "%%capture\n",
    "\n",
    "!pip install openai langchain python-arango"
   ]
  },
  {
   "cell_type": "code",
   "execution_count": null,
   "id": "56b49e61",
   "metadata": {},
   "outputs": [],
   "source": [
    "# 🔐 API 및 DB 설정\n",
    "from langchain.chat_models import ChatOpenAI\n",
    "from arango import ArangoClient\n",
    "import os, json\n",
    "\n",
    "os.environ[\"OPENAI_API_KEY\"] = \"sk-...\"  # 본인의 OpenAI 키 입력\n",
    "\n",
    "client = ArangoClient()\n",
    "db = client.db(\"_system\", username=\"root\", password=\"openSesame\")\n",
    "\n",
    "# 컬렉션 생성\n",
    "if not db.has_collection(\"nodes\"):\n",
    "    db.create_collection(\"nodes\")\n",
    "if not db.has_collection(\"edges\"):\n",
    "    db.create_collection(\"edges\", edge=True)\n",
    "\n",
    "# 🧠 LLM 프롬프트 구성\n",
    "from langchain.prompts import PromptTemplate\n",
    "from langchain.chains import LLMChain\n",
    "\n",
    "llm = ChatOpenAI(temperature=0)\n",
    "\n",
    "prompt_template = PromptTemplate.from_template(\"\"\"\n",
    "너는 지식 그래프 생성 전문가야. 다음 텍스트에서 개체와 관계를 추출하여 JSON 형식으로 반환해.\n",
    "\n",
    "텍스트:\n",
    "\\\"\\\"\\\"{text}\\\"\\\"\\\"\n",
    "\n",
    "출력 형식:\n",
    "{\n",
    "  \"nodes\": [\n",
    "    {{ \"_key\": \"...\", \"name\": \"...\", \"type\": \"...\" }},\n",
    "    ...\n",
    "  ],\n",
    "  \"edges\": [\n",
    "    {{ \"_from\": \"nodes/...\", \"_to\": \"nodes/...\", \"relation\": \"...\" }},\n",
    "    ...\n",
    "  ]\n",
    "}\n",
    "\"\"\")\n",
    "\n",
    "chain = LLMChain(llm=llm, prompt=prompt_template)\n",
    "\n",
    "# 📄 입력 예시\n",
    "input_text = \"Steve Jobs는 Apple의 창립자이며 Pixar에도 관여했다. 그는 iPhone 개발을 주도했다.\"\n",
    "result = chain.run(text=input_text)\n",
    "\n",
    "print(\"🔍 Raw LLM Result:\\n\", result)\n",
    "\n",
    "# 🧩 결과 파싱 및 ArangoDB 삽입\n",
    "parsed = json.loads(result)\n",
    "\n",
    "nodes_col = db.collection(\"nodes\")\n",
    "for node in parsed[\"nodes\"]:\n",
    "    if not nodes_col.has(node[\"_key\"]):\n",
    "        nodes_col.insert(node)\n",
    "\n",
    "edges_col = db.collection(\"edges\")\n",
    "for edge in parsed[\"edges\"]:\n",
    "    edges_col.insert(edge)\n",
    "\n",
    "print(\"✅ 그래프 노드 및 엣지 삽입 완료\")"
   ]
  },
  {
   "cell_type": "markdown",
   "id": "da6925cf",
   "metadata": {},
   "source": [
    "### 1. Named Graph 정의 및 Edge Definition 추가"
   ]
  },
  {
   "cell_type": "code",
   "execution_count": null,
   "id": "774dad65",
   "metadata": {},
   "outputs": [],
   "source": [
    "# Named Graph 생성\n",
    "if not db.has_graph(\"knowledge_graph\"):\n",
    "    graph = db.create_graph(\"knowledge_graph\")\n",
    "    graph.create_edge_definition(\n",
    "        edge_collection=\"edges\",\n",
    "        from_vertex_collections=[\"nodes\"],\n",
    "        to_vertex_collections=[\"nodes\"]\n",
    "    )\n",
    "else:\n",
    "    graph = db.graph(\"knowledge_graph\")\n"
   ]
  },
  {
   "cell_type": "markdown",
   "id": "f2f06fd4",
   "metadata": {},
   "source": [
    "### 2. AQL로 경로 탐색 (예: steve_jobs 주변 탐색)"
   ]
  },
  {
   "cell_type": "code",
   "execution_count": null,
   "id": "d0756192",
   "metadata": {},
   "outputs": [],
   "source": [
    "query = \"\"\"\n",
    "FOR v, e, p IN 1..2 OUTBOUND 'nodes/steve_jobs' GRAPH 'knowledge_graph'\n",
    "RETURN {vertex: v, edge: e}\n",
    "\"\"\"\n",
    "\n",
    "cursor = db.aql.execute(query)\n",
    "graph_data = list(cursor)\n",
    "print(\"🔎 탐색된 노드 및 엣지 수:\", len(graph_data))"
   ]
  },
  {
   "cell_type": "markdown",
   "id": "28375610",
   "metadata": {},
   "source": [
    "### 3. Python 시각화 (NetworkX + Matplotlib)"
   ]
  },
  {
   "cell_type": "code",
   "execution_count": null,
   "id": "0c6e6174",
   "metadata": {},
   "outputs": [],
   "source": [
    "%%capture\n",
    "\n",
    "!pip install networkx matplotlib"
   ]
  },
  {
   "cell_type": "code",
   "execution_count": null,
   "id": "1af4426c",
   "metadata": {},
   "outputs": [],
   "source": [
    "import networkx as nx\n",
    "import matplotlib.pyplot as plt\n",
    "\n",
    "G = nx.DiGraph()\n",
    "\n",
    "# 정점과 간선을 그래프에 추가\n",
    "for item in graph_data:\n",
    "    v = item['vertex']\n",
    "    e = item['edge']\n",
    "    from_node = e['_from'].split('/')[1]\n",
    "    to_node = e['_to'].split('/')[1]\n",
    "    relation = e.get('relation', '')\n",
    "\n",
    "    G.add_node(from_node, label=from_node)\n",
    "    G.add_node(to_node, label=to_node)\n",
    "    G.add_edge(from_node, to_node, label=relation)\n",
    "\n",
    "# 그래프 시각화\n",
    "plt.figure(figsize=(8, 6))\n",
    "pos = nx.spring_layout(G)\n",
    "\n",
    "# 노드와 엣지 그리기\n",
    "nx.draw(G, pos, with_labels=True, node_color=\"lightblue\", node_size=2000, font_size=10)\n",
    "edge_labels = nx.get_edge_attributes(G, 'label')\n",
    "nx.draw_networkx_edge_labels(G, pos, edge_labels=edge_labels, font_size=9)\n",
    "plt.title(\"🧠 LLM 기반 Named Graph 시각화\")\n",
    "plt.show()\n"
   ]
  }
 ],
 "metadata": {
  "kernelspec": {
   "display_name": ".venv",
   "language": "python",
   "name": "python3"
  },
  "language_info": {
   "codemirror_mode": {
    "name": "ipython",
    "version": 3
   },
   "file_extension": ".py",
   "mimetype": "text/x-python",
   "name": "python",
   "nbconvert_exporter": "python",
   "pygments_lexer": "ipython3",
   "version": "3.12.11"
  }
 },
 "nbformat": 4,
 "nbformat_minor": 5
}
